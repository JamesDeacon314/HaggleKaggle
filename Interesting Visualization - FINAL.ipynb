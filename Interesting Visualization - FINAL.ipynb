{
 "cells": [
  {
   "cell_type": "code",
   "execution_count": 12,
   "metadata": {},
   "outputs": [],
   "source": [
    "import csv\n",
    "with open(\"data/movies.txt\",\"r\", encoding=\"latin_1\") as f:\n",
    "    reader = csv.reader(f, delimiter=\"\\t\")\n",
    "    \n",
    "    # Put the contents in a matrix\n",
    "    movies = np.array(list(reader))"
   ]
  },
  {
   "cell_type": "code",
   "execution_count": 13,
   "metadata": {},
   "outputs": [
    {
     "data": {
      "text/plain": [
       "array([['1', 'Toy Story (1995)', '0', ..., '0', '0', '0'],\n",
       "       ['2', 'GoldenEye (1995)', '0', ..., '1', '0', '0'],\n",
       "       ['3', 'Four Rooms (1995)', '0', ..., '1', '0', '0'],\n",
       "       ...,\n",
       "       ['1680', 'Sliding Doors (1998)', '0', ..., '0', '0', '0'],\n",
       "       ['1681', 'You So Crazy (1994)', '0', ..., '0', '0', '0'],\n",
       "       ['1682', 'Scream of Stone (Schrei aus Stein) (1991)', '0', ...,\n",
       "        '0', '0', '0']], dtype='<U81')"
      ]
     },
     "execution_count": 13,
     "metadata": {},
     "output_type": "execute_result"
    }
   ],
   "source": [
    "movies"
   ]
  },
  {
   "cell_type": "code",
   "execution_count": null,
   "metadata": {},
   "outputs": [],
   "source": [
    "data = np.loadtxt('data/data.txt').astype(int)"
   ]
  },
  {
   "cell_type": "code",
   "execution_count": 56,
   "metadata": {},
   "outputs": [],
   "source": [
    "movie_clusters = [[\"unknown\",[]], [\"action\",[]], [\"adventure\",[]],\n",
    "                      [\"animation\",[]], [\"children's\",[]], [\"comedy\",[]],\n",
    "                      [\"crime\",[]], [\"documentary\",[]], [\"drama\",[]],\n",
    "                      [\"fantasy\",[]], [\"film-noir\",[]], [\"horror\",[]],\n",
    "                      [\"musical\",[]], [\"mystery\",[]], [\"romance\",[]],\n",
    "                      [\"sci-fi\",[]], [\"thriller\",[]], [\"war\",[]], \n",
    "                      [\"western\",[]]]\n",
    "    \n",
    "for i in range(len(movies)):\n",
    "    for j in range(2, 21):\n",
    "        if movies[i][j] == '1':\n",
    "            movie_clusters[j-2][1].append(int(movies[i][0]))"
   ]
  },
  {
   "cell_type": "code",
   "execution_count": 57,
   "metadata": {},
   "outputs": [],
   "source": [
    "data = np.loadtxt('data/data.txt').astype(int)"
   ]
  },
  {
   "cell_type": "code",
   "execution_count": 58,
   "metadata": {},
   "outputs": [
    {
     "data": {
      "text/plain": [
       "[0, 0, 0, 0, 0]"
      ]
     },
     "execution_count": 58,
     "metadata": {},
     "output_type": "execute_result"
    }
   ],
   "source": [
    "fill_w_ratings = [0 for i in range(5)]\n",
    "fill_w_ratings"
   ]
  },
  {
   "cell_type": "code",
   "execution_count": 59,
   "metadata": {},
   "outputs": [
    {
     "name": "stdout",
     "output_type": "stream",
     "text": [
      "[['unknown', [2, 0, 3, 4, 1]], ['action', [1547, 3254, 7254, 8431, 5103]], ['adventure', [804, 1709, 3901, 4436, 2903]], ['animation', [186, 373, 1018, 1232, 796]], [\"children's\", [574, 961, 2218, 2212, 1217]], ['comedy', [2279, 3856, 8751, 9722, 5224]], ['crime', [417, 834, 2006, 2835, 1963]], ['documentary', [59, 58, 164, 268, 209]], ['drama', [1766, 3647, 9877, 14608, 9997]], ['fantasy', [112, 220, 461, 383, 176]], ['film-noir', [45, 97, 367, 664, 560]], ['horror', [503, 814, 1513, 1610, 877]], ['musical', [285, 574, 1418, 1627, 1050]], ['mystery', [255, 526, 1306, 1933, 1225]], ['romance', [942, 2017, 5061, 6882, 4559]], ['sci-fi', [724, 1519, 3296, 4277, 2914]], ['thriller', [1245, 2614, 6088, 7613, 4312]], ['war', [367, 762, 2020, 3335, 2914]], ['western', [71, 179, 540, 670, 394]]]\n"
     ]
    }
   ],
   "source": [
    "ratings = [[\"unknown\",[0, 0, 0, 0, 0]], [\"action\",[0, 0, 0, 0, 0]], [\"adventure\",[0, 0, 0, 0, 0]],\n",
    "                      [\"animation\",[0, 0, 0, 0, 0]], [\"children's\",[0, 0, 0, 0, 0]], [\"comedy\",[0, 0, 0, 0, 0]],\n",
    "                      [\"crime\",[0, 0, 0, 0, 0]], [\"documentary\",[0, 0, 0, 0, 0]], [\"drama\",[0, 0, 0, 0, 0]],\n",
    "                      [\"fantasy\",[0, 0, 0, 0, 0]], [\"film-noir\",[0, 0, 0, 0, 0]], [\"horror\",[0, 0, 0, 0, 0]],\n",
    "                      [\"musical\",[0, 0, 0, 0, 0]], [\"mystery\",[0, 0, 0, 0, 0]], [\"romance\",[0, 0, 0, 0, 0]],\n",
    "                      [\"sci-fi\",[0, 0, 0, 0, 0]], [\"thriller\",[0, 0, 0, 0, 0]], [\"war\",[0, 0, 0, 0, 0]], \n",
    "                      [\"western\",[0, 0, 0, 0, 0]]]\n",
    "\n",
    "for d in data:\n",
    "    for genre in range(len(movie_clusters)):\n",
    "        if d[1] in movie_clusters[genre][1]:\n",
    "            ratings[genre][1][d[2]-1] += 1\n",
    "\n",
    "print(ratings)"
   ]
  },
  {
   "cell_type": "code",
   "execution_count": 84,
   "metadata": {},
   "outputs": [
    {
     "data": {
      "text/html": [
       "<iframe id=\"igraph\" scrolling=\"no\" style=\"border:none;\" seamless=\"seamless\" src=\"https://plot.ly/~angelinapan/38.embed\" height=\"525px\" width=\"100%\"></iframe>"
      ],
      "text/plain": [
       "<plotly.tools.PlotlyDisplay object>"
      ]
     },
     "execution_count": 84,
     "metadata": {},
     "output_type": "execute_result"
    }
   ],
   "source": [
    "import plotly.plotly as py \n",
    "\n",
    "labels1 = [\"Unknown\", \"Action\", \"Adventure\", \"Animation\", \"Children’s\", \n",
    "               \"Comedy\", \"Crime\", \"Documentary\", \"Drama\", \"Fantasy\", \"Film-Noir\", \n",
    "               \"Horror\", \"Musical\", \"Mystery\", \"Romance\", \"Sci-Fi\", \"Thriller\", \n",
    "               \"War\", \"Western\"]\n",
    "labels2 = [\"1\", \"2\", \"3\", \"4\", \"5\"]\n",
    "\n",
    "genres = []\n",
    "for i in range(len(ratings)):\n",
    "    for j in range(5):\n",
    "        genres.append(i)\n",
    "genre_ratings = []\n",
    "for i in range(len(ratings)):\n",
    "    for j in range(5):\n",
    "        genre_ratings.append(len(labels1) + j)\n",
    "weights = []\n",
    "for i in range(len(ratings)):\n",
    "    for j in range(5):\n",
    "        weights.append(ratings[i][1][j])\n",
    "\n",
    "choose_from = ['rgb(204, 255, 255)', 'rgb(204, 229, 255)', 'rgb(204, 204, 255)'\n",
    "              , 'rgb(229, 204, 255)', 'rgb(255, 204, 255)']\n",
    "colours = []\n",
    "for i in range(len(ratings)):\n",
    "    for j in range(5):\n",
    "        colours.append(choose_from[j])\n",
    "        \n",
    "colour_genres = [\"rgb(128,0,128)\" for i in range(len(labels1))]\n",
    "\n",
    "\n",
    "data = dict(\n",
    "    type='sankey',\n",
    "    node = dict(\n",
    "      pad = 15,\n",
    "      thickness = 20,\n",
    "      line = dict(\n",
    "        color = \"black\",\n",
    "        width = 0.5\n",
    "      ),\n",
    "      label = labels1 + labels2,\n",
    "      color = colour_genres + [\"rgb(102, 255, 255)\", \"rgb(102,178,255)\",\n",
    "              \"rgb(102,102,255)\", \"rgb(178,102,255)\", \"rgb(255,102,255)\"]\n",
    "    ),\n",
    "    link = dict(\n",
    "      source = genres,\n",
    "      target = genre_ratings,\n",
    "      value = weights,\n",
    "      color = colours\n",
    "  ))\n",
    "\n",
    "layout =  dict(\n",
    "    title = \"Categories vs. Ratings Sankey Diagram\",\n",
    "    font = dict(\n",
    "      size = 10\n",
    "    )\n",
    ")\n",
    "\n",
    "fig = dict(data=[data], layout=layout)\n",
    "py.iplot(fig, validate=False)"
   ]
  },
  {
   "cell_type": "code",
   "execution_count": 83,
   "metadata": {},
   "outputs": [
    {
     "data": {
      "text/html": [
       "<iframe id=\"igraph\" scrolling=\"no\" style=\"border:none;\" seamless=\"seamless\" src=\"https://plot.ly/~angelinapan/36.embed\" height=\"525px\" width=\"100%\"></iframe>"
      ],
      "text/plain": [
       "<plotly.tools.PlotlyDisplay object>"
      ]
     },
     "execution_count": 83,
     "metadata": {},
     "output_type": "execute_result"
    }
   ],
   "source": [
    "# comedy, action, thriller, drama, romance\n",
    "labels1 = [\"Unknown\", \"Action\", \"Adventure\", \"Animation\", \"Children’s\", \n",
    "               \"Comedy\", \"Crime\", \"Documentary\", \"Drama\", \"Fantasy\", \"Film-Noir\", \n",
    "               \"Horror\", \"Musical\", \"Mystery\", \"Romance\", \"Sci-Fi\", \"Thriller\", \n",
    "               \"War\", \"Western\"]\n",
    "labels2 = [\"1\", \"2\", \"3\", \"4\", \"5\"]\n",
    "\n",
    "genres = []\n",
    "for i in [2, 5, 8, 14, 16]:\n",
    "    for j in range(5):\n",
    "        genres.append(i)\n",
    "genre_ratings = []\n",
    "for i in [2, 5, 8, 14, 16]:\n",
    "    for j in range(5):\n",
    "        genre_ratings.append(len(labels1) + j)\n",
    "weights = []\n",
    "for i in [2, 5, 8, 14, 16]:\n",
    "    for j in range(5):\n",
    "        weights.append(ratings[i][1][j])\n",
    "\n",
    "choose_from = ['rgb(204, 255, 255)', 'rgb(204, 229, 255)', 'rgb(204, 204, 255)'\n",
    "              , 'rgb(229, 204, 255)', 'rgb(255, 204, 255)']\n",
    "colours = []\n",
    "for i in [2, 5, 8, 14, 16]:\n",
    "    for j in range(5):\n",
    "        colours.append(choose_from[j])\n",
    "        \n",
    "colour_genres = [\"rgb(128,0,128)\" for i in range(len(labels1))]\n",
    "\n",
    "\n",
    "data = dict(\n",
    "    type='sankey',\n",
    "    node = dict(\n",
    "      pad = 15,\n",
    "      thickness = 20,\n",
    "      line = dict(\n",
    "        color = \"black\",\n",
    "        width = 0.5\n",
    "      ),\n",
    "      label = labels1 + labels2,\n",
    "      color = colour_genres + [\"rgb(102, 255, 255)\", \"rgb(102,178,255)\",\n",
    "              \"rgb(102,102,255)\", \"rgb(178,102,255)\", \"rgb(255,102,255)\"]\n",
    "    ),\n",
    "    link = dict(\n",
    "      source = genres,\n",
    "      target = genre_ratings,\n",
    "      value = weights,\n",
    "      color = colours\n",
    "  ))\n",
    "\n",
    "layout =  dict(\n",
    "    title = \"Top 5 Categories vs. Ratings Sankey Diagram\",\n",
    "    font = dict(\n",
    "      size = 10\n",
    "    )\n",
    ")\n",
    "\n",
    "fig = dict(data=[data], layout=layout)\n",
    "py.iplot(fig, validate=False)"
   ]
  },
  {
   "cell_type": "code",
   "execution_count": 82,
   "metadata": {},
   "outputs": [
    {
     "data": {
      "text/html": [
       "<iframe id=\"igraph\" scrolling=\"no\" style=\"border:none;\" seamless=\"seamless\" src=\"https://plot.ly/~angelinapan/34.embed\" height=\"525px\" width=\"100%\"></iframe>"
      ],
      "text/plain": [
       "<plotly.tools.PlotlyDisplay object>"
      ]
     },
     "execution_count": 82,
     "metadata": {},
     "output_type": "execute_result"
    }
   ],
   "source": [
    "# fantasy, unknown, film-noir, documentary, western\n",
    "labels1 = [\"Unknown\", \"Action\", \"Adventure\", \"Animation\", \"Children’s\", \n",
    "               \"Comedy\", \"Crime\", \"Documentary\", \"Drama\", \"Fantasy\", \"Film-Noir\", \n",
    "               \"Horror\", \"Musical\", \"Mystery\", \"Romance\", \"Sci-Fi\", \"Thriller\", \n",
    "               \"War\", \"Western\"]\n",
    "labels2 = [\"1\", \"2\", \"3\", \"4\", \"5\"]\n",
    "\n",
    "genres = []\n",
    "for i in [0, 7, 9, 10, 18]:\n",
    "    for j in range(5):\n",
    "        genres.append(i)\n",
    "genre_ratings = []\n",
    "for i in [0, 7, 9, 10, 18]:\n",
    "    for j in range(5):\n",
    "        genre_ratings.append(len(labels1) + j)\n",
    "weights = []\n",
    "for i in [0, 7, 9, 10, 18]:\n",
    "    for j in range(5):\n",
    "        weights.append(ratings[i][1][j])\n",
    "choose_from = ['rgb(204, 255, 255)', 'rgb(204, 229, 255)', 'rgb(204, 204, 255)'\n",
    "              , 'rgb(229, 204, 255)', 'rgb(255, 204, 255)']\n",
    "colours = []\n",
    "for i in [0, 7, 9, 10, 18]:\n",
    "    for j in range(5):\n",
    "        colours.append(choose_from[j])\n",
    "        \n",
    "colour_genres = [\"rgb(128,0,128)\" for i in range(len(labels1))]\n",
    "\n",
    "data = dict(\n",
    "    type='sankey',\n",
    "    node = dict(\n",
    "      pad = 15,\n",
    "      thickness = 20,\n",
    "      line = dict(\n",
    "        color = \"black\",\n",
    "        width = 0.5\n",
    "      ),\n",
    "      label = labels1 + labels2,\n",
    "      color = colour_genres + [\"rgb(102, 255, 255)\", \"rgb(102,178,255)\",\n",
    "              \"rgb(102,102,255)\", \"rgb(178,102,255)\", \"rgb(255,102,255)\"]\n",
    "    ),\n",
    "    link = dict(\n",
    "      source = genres,\n",
    "      target = genre_ratings,\n",
    "      value = weights,\n",
    "      color = colours\n",
    "  ))\n",
    "\n",
    "layout =  dict(\n",
    "    title = \"Bottom 5 Categories vs. Ratings Sankey Diagram\",\n",
    "    font = dict(\n",
    "      size = 10\n",
    "    )\n",
    ")\n",
    "\n",
    "fig = dict(data=[data], layout=layout)\n",
    "py.iplot(fig, validate=False)"
   ]
  }
 ],
 "metadata": {
  "kernelspec": {
   "display_name": "Python 3",
   "language": "python",
   "name": "python3"
  },
  "language_info": {
   "codemirror_mode": {
    "name": "ipython",
    "version": 3
   },
   "file_extension": ".py",
   "mimetype": "text/x-python",
   "name": "python",
   "nbconvert_exporter": "python",
   "pygments_lexer": "ipython3",
   "version": "3.6.8"
  }
 },
 "nbformat": 4,
 "nbformat_minor": 2
}
