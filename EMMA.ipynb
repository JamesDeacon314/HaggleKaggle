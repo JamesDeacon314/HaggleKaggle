{
 "cells": [
  {
   "cell_type": "code",
   "execution_count": 10,
   "metadata": {},
   "outputs": [],
   "source": [
    "import pandas as pd\n",
    "import numpy as np\n",
    "from surprise import NormalPredictor, Dataset, SVD, Reader\n",
    "from surprise.model_selection import cross_validate\n",
    "\n",
    "df_train = pd.read_csv(\"data/train.txt\", delimiter=\"\\t\", encoding=\"latin_1\",\n",
    "header = None)\n",
    "rated_movies = df_train.iloc[:,1].unique()\n",
    "train_data = Dataset.load_from_df(df_train, Reader())\n",
    "train_data = train_data.build_full_trainset()\n",
    "df_test = pd.read_csv(\"data/test.txt\", delimiter=\"\\t\", encoding=\"latin_1\",\n",
    "header = None)\n",
    "df_test = df_test[df_test.iloc[:,1].isin(rated_movies)]\n",
    "test_data = Dataset.load_from_df(df_test, Reader())\n",
    "\n",
    "algo = SVD(n_factors=20)\n",
    "algo.fit(train_data)\n",
    "predictions = algo.test(test_data.build_full_trainset().build_testset())\n",
    "U = algo.pu\n",
    "V = algo.qi"
   ]
  },
  {
   "cell_type": "code",
   "execution_count": null,
   "metadata": {},
   "outputs": [],
   "source": []
  }
 ],
 "metadata": {
  "kernelspec": {
   "display_name": "Python 3",
   "language": "python",
   "name": "python3"
  },
  "language_info": {
   "codemirror_mode": {
    "name": "ipython",
    "version": 3
   },
   "file_extension": ".py",
   "mimetype": "text/x-python",
   "name": "python",
   "nbconvert_exporter": "python",
   "pygments_lexer": "ipython3",
   "version": "3.6.8"
  }
 },
 "nbformat": 4,
 "nbformat_minor": 2
}
